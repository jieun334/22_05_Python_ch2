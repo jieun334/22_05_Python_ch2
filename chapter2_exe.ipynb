{
  "nbformat": 4,
  "nbformat_minor": 0,
  "metadata": {
    "colab": {
      "provenance": [],
      "authorship_tag": "ABX9TyOjKk4a3GR+BlyVYY+HwV+Y",
      "include_colab_link": true
    },
    "kernelspec": {
      "name": "python3",
      "display_name": "Python 3"
    },
    "language_info": {
      "name": "python"
    }
  },
  "cells": [
    {
      "cell_type": "markdown",
      "metadata": {
        "id": "view-in-github",
        "colab_type": "text"
      },
      "source": [
        "<a href=\"https://colab.research.google.com/github/jieun334/22_05_Python_ch2/blob/main/chapter2_exe.ipynb\" target=\"_parent\"><img src=\"https://colab.research.google.com/assets/colab-badge.svg\" alt=\"Open In Colab\"/></a>"
      ]
    },
    {
      "cell_type": "code",
      "execution_count": null,
      "metadata": {
        "id": "KUhEVUWWOQal"
      },
      "outputs": [],
      "source": []
    },
    {
      "cell_type": "markdown",
      "source": [
        "사용자한테 이름과 나이를 입력하게 한다. 사용자가 100살이 되는 연도를 화면에 출력하는 프로그램을 작성하라."
      ],
      "metadata": {
        "id": "l6-aVd16Pik4"
      }
    },
    {
      "cell_type": "code",
      "source": [
        "name = input(\"이름을 입력하시오.\")        # 변수 name에 input함수를 사용하여 사용자에게 이름을 입력받는 부분\n",
        "age = int(input(\"나이를 입력하시오.\"))    # 변수 age에 int(정수형선언)함수를 사용하여 사용자에게 나이를 입력받는 부분\n",
        "year = 2022 - age + 100                   # 변수 year에 현재 연도 + 변수(age)+100\n",
        "print(name + \"씨는\" + str(year) + \"년에 100살입니다.\")"
      ],
      "metadata": {
        "colab": {
          "base_uri": "https://localhost:8080/"
        },
        "id": "QsP04_O4Pyei",
        "outputId": "2b9e2ad1-6404-40c6-f5b9-648156350e4d"
      },
      "execution_count": 3,
      "outputs": [
        {
          "output_type": "stream",
          "name": "stdout",
          "text": [
            "이름을 입력하시오. 정지은\n",
            "나이를 입력하시오.20\n",
            " 정지은씨는2102년에 100살입니다.\n"
          ]
        }
      ]
    },
    {
      "cell_type": "markdown",
      "source": [
        "사용자로부터 3개의 숫자를 받아서 평균을 계산하라."
      ],
      "metadata": {
        "id": "yKltlzgKTRUl"
      }
    },
    {
      "cell_type": "code",
      "source": [
        "n1 = int(input(\"첫 번째 숫자를 입력하시오.\"))\n",
        "n2 = int(input(\"두 번째 숫자를 입력하시오.\"))\n",
        "n3 = int(input(\"세 번째 숫자를 입력하시오.\"))\n",
        "aver = (n1 + n2 + n3 / 3)\n",
        "sum = n1 + n2 + n3\n",
        "print(n1, n2, n3, \"의 합은\", str(sum), \"이고\", \"평균은\", aver, \"입니다.\")"
      ],
      "metadata": {
        "colab": {
          "base_uri": "https://localhost:8080/"
        },
        "id": "UCc4mg-wTbBv",
        "outputId": "6bb717d7-ea87-4d37-943b-1d8daa2b06ce"
      },
      "execution_count": 8,
      "outputs": [
        {
          "output_type": "stream",
          "name": "stdout",
          "text": [
            "첫 번째 숫자를 입력하시오.10\n",
            "두 번째 숫자를 입력하시오.20\n",
            "세 번째 숫자를 입력하시오.30\n",
            "10 20 30 의 합은 60 이고 평균은 40.0 입니다.\n"
          ]
        }
      ]
    },
    {
      "cell_type": "markdown",
      "source": [
        "사용자로부터 원의 반지름을 입력받아서 면적을 구하시오."
      ],
      "metadata": {
        "id": "Syx6NQBKVhUp"
      }
    },
    {
      "cell_type": "code",
      "source": [
        "radius = int(input(\"반지름을 입력하시오.\"))\n",
        "area = 3.141592 * radius * radius\n",
        "print(\"반지름이\", radius,\"인\", \"원의 넓이는 =\", area, \"입니다.\")"
      ],
      "metadata": {
        "colab": {
          "base_uri": "https://localhost:8080/"
        },
        "id": "Df9sliEyV-ER",
        "outputId": "9c96ed11-12e1-4881-edf3-bc64db116ee5"
      },
      "execution_count": 13,
      "outputs": [
        {
          "output_type": "stream",
          "name": "stdout",
          "text": [
            "반지름을 입력하시오.10\n",
            "반지름이 10 인 원의 넓이는 = 314.1592 입니다.\n"
          ]
        }
      ]
    }
  ]
}